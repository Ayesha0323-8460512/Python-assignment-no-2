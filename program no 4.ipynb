{
 "cells": [
  {
   "cell_type": "code",
   "execution_count": 1,
   "id": "f2cd2c9e",
   "metadata": {},
   "outputs": [
    {
     "name": "stdout",
     "output_type": "stream",
     "text": [
      "{'key1': 'Front', 'key2': 4, 'key3': 'backend', 'key4': 5, 'key5': 6}\n"
     ]
    }
   ],
   "source": [
    "#4:Write a Python program to sum all the numeric items in a dictionary.\n",
    "dict1={'key1':'Front',\n",
    "      'key2':4,\n",
    "      'key3':'backend',\n",
    "      'key4':5,\n",
    "      'key5':6}\n",
    "print(dict1)"
   ]
  },
  {
   "cell_type": "code",
   "execution_count": 2,
   "id": "cd237715",
   "metadata": {},
   "outputs": [
    {
     "name": "stdout",
     "output_type": "stream",
     "text": [
      "4\n",
      "5\n",
      "6\n",
      "sum of numeric values of dict1 is: 15\n"
     ]
    }
   ],
   "source": [
    "add=0;\n",
    "for x in dict1.values():\n",
    "    if type(x)==int:\n",
    "        print(x)\n",
    "        add=add+x;\n",
    "print(\"sum of numeric values of dict1 is:\",add)"
   ]
  },
  {
   "cell_type": "code",
   "execution_count": null,
   "id": "9e84fafe",
   "metadata": {},
   "outputs": [],
   "source": []
  }
 ],
 "metadata": {
  "kernelspec": {
   "display_name": "Python 3",
   "language": "python",
   "name": "python3"
  },
  "language_info": {
   "codemirror_mode": {
    "name": "ipython",
    "version": 3
   },
   "file_extension": ".py",
   "mimetype": "text/x-python",
   "name": "python",
   "nbconvert_exporter": "python",
   "pygments_lexer": "ipython3",
   "version": "3.8.8"
  }
 },
 "nbformat": 4,
 "nbformat_minor": 5
}
