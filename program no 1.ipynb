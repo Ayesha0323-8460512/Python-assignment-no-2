{
 "cells": [
  {
   "cell_type": "code",
   "execution_count": 1,
   "id": "5e51920f",
   "metadata": {},
   "outputs": [],
   "source": [
    "#1:Make a calculator using Python with addition , subtraction ,multiplication ,division and power"
   ]
  },
  {
   "cell_type": "code",
   "execution_count": 1,
   "id": "aa1f9e66",
   "metadata": {},
   "outputs": [
    {
     "name": "stdout",
     "output_type": "stream",
     "text": [
      "Enter first number:2\n",
      "Enter first number:4\n"
     ]
    }
   ],
   "source": [
    "x=int(input(\"Enter first number:\"));\n",
    "y=int(input(\"Enter first number:\"));"
   ]
  },
  {
   "cell_type": "code",
   "execution_count": 2,
   "id": "29f4ac7f",
   "metadata": {},
   "outputs": [
    {
     "name": "stdout",
     "output_type": "stream",
     "text": [
      "Enter 1 for addition\n",
      "Enter 2 for subtraction\n",
      "Enter 3 for multiply\n",
      "Enter 4 for division\n",
      "Enter 5 for power\n"
     ]
    }
   ],
   "source": [
    "print(\"Enter 1 for addition\");\n",
    "print(\"Enter 2 for subtraction\");\n",
    "print(\"Enter 3 for multiply\");\n",
    "print(\"Enter 4 for division\");\n",
    "print(\"Enter 5 for power\");"
   ]
  },
  {
   "cell_type": "code",
   "execution_count": 3,
   "id": "f836dda9",
   "metadata": {},
   "outputs": [
    {
     "name": "stdout",
     "output_type": "stream",
     "text": [
      "Enter option from selection:3\n"
     ]
    }
   ],
   "source": [
    "option=int(input(\"Enter option from selection:\"));"
   ]
  },
  {
   "cell_type": "code",
   "execution_count": 4,
   "id": "765dba50",
   "metadata": {},
   "outputs": [
    {
     "name": "stdout",
     "output_type": "stream",
     "text": [
      "you select multiply\n",
      "multiply of x and y is: 8\n"
     ]
    }
   ],
   "source": [
    "def addition(num1, num2):\n",
    "    return num1 + num2\n",
    "def subtraction(num1, num2):\n",
    "    return num1 -num2\n",
    "def multiply(num1, num2):\n",
    "    return num1 *num2\n",
    "def division(num1, num2):\n",
    "    return num1 /num2\n",
    "def power(num1, num2):\n",
    "    return num1** num2\n",
    "#conditions\n",
    "if option==1:\n",
    "    print(\"you select addition\");\n",
    "    z=addition(x,y)\n",
    "    print(\"addition of x and y is:\",z);\n",
    "elif option==2:\n",
    "    print(\"you select subtraction\");\n",
    "    z=subtraction(x,y)\n",
    "    print(\"subtraction of x and y is:\",z);\n",
    "elif option==3:\n",
    "    print(\"you select multiply\");\n",
    "    z=multiply(x,y)\n",
    "    print(\"multiply of x and y is:\",z);\n",
    "elif option==4:\n",
    "    print(\"you select division\");\n",
    "    z=division(x,y)\n",
    "    print(\"division of x and y is:\",z);\n",
    "elif option==5:\n",
    "    print(\"you select power\");\n",
    "    z=power(x,y)\n",
    "    print(\"power of x and y is:\",z);\n",
    "else:\n",
    "    print(\"NO more options\");\n"
   ]
  },
  {
   "cell_type": "code",
   "execution_count": null,
   "id": "c79c689b",
   "metadata": {},
   "outputs": [],
   "source": []
  }
 ],
 "metadata": {
  "kernelspec": {
   "display_name": "Python 3",
   "language": "python",
   "name": "python3"
  },
  "language_info": {
   "codemirror_mode": {
    "name": "ipython",
    "version": 3
   },
   "file_extension": ".py",
   "mimetype": "text/x-python",
   "name": "python",
   "nbconvert_exporter": "python",
   "pygments_lexer": "ipython3",
   "version": "3.8.8"
  }
 },
 "nbformat": 4,
 "nbformat_minor": 5
}
