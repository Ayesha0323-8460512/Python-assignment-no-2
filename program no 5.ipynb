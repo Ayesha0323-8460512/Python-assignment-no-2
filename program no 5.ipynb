{
 "cells": [
  {
   "cell_type": "code",
   "execution_count": 36,
   "id": "3374cf85",
   "metadata": {},
   "outputs": [
    {
     "name": "stdout",
     "output_type": "stream",
     "text": [
      "[20, 10, 30, 50, 40, 10, 30, 90, 90, 60]\n",
      "[10, 30, 90]\n"
     ]
    }
   ],
   "source": [
    "#5. Write a program to identify duplicate values from list.\n",
    "list1=[20,10,30,50,40,10,30,90,90,60]\n",
    "print(list1)\n",
    "new_list=dup(list1)\n",
    "print(new_list)"
   ]
  },
  {
   "cell_type": "code",
   "execution_count": 33,
   "id": "f74c5560",
   "metadata": {},
   "outputs": [],
   "source": [
    "def dup(list1):\n",
    "    _size = len(list1)\n",
    "    duplicate_values = []\n",
    "    for i in range(_size):\n",
    "        k = i + 1\n",
    "        for j in range(k, _size):\n",
    "            if list1[i] == list1[j] and list1[i] not in duplicate_values :\n",
    "                duplicate_values .append(list1[i])\n",
    "              \n",
    "    return duplicate_values"
   ]
  },
  {
   "cell_type": "code",
   "execution_count": null,
   "id": "497c687e",
   "metadata": {},
   "outputs": [],
   "source": [
    "\n"
   ]
  },
  {
   "cell_type": "code",
   "execution_count": null,
   "id": "cf312bbf",
   "metadata": {},
   "outputs": [],
   "source": []
  }
 ],
 "metadata": {
  "kernelspec": {
   "display_name": "Python 3",
   "language": "python",
   "name": "python3"
  },
  "language_info": {
   "codemirror_mode": {
    "name": "ipython",
    "version": 3
   },
   "file_extension": ".py",
   "mimetype": "text/x-python",
   "name": "python",
   "nbconvert_exporter": "python",
   "pygments_lexer": "ipython3",
   "version": "3.8.8"
  }
 },
 "nbformat": 4,
 "nbformat_minor": 5
}
