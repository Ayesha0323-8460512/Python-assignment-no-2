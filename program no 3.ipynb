{
 "cells": [
  {
   "cell_type": "code",
   "execution_count": 1,
   "id": "1f84c587",
   "metadata": {},
   "outputs": [
    {
     "name": "stdout",
     "output_type": "stream",
     "text": [
      "Before adding key:\n",
      "\n",
      " {'key1': 'SE ', 'key2': 'BSCS', 'key3': 'IT', 'key4': 'DS', 'key5': 'AI'}\n",
      "\n",
      "update dictionary is:\n",
      "\n",
      " {'key1': 'SE ', 'key2': 'BSCS', 'key3': 'IT', 'key4': 'DS', 'key5': 'AI', 'key6': 'CSecurity'}\n"
     ]
    }
   ],
   "source": [
    "#3:Write a Python script to add a key to a dictionary.\n",
    "my_dict={\"key1\":\"SE \",\n",
    "        \"key2\":\"BSCS\",\n",
    "         \"key3\":\"IT\",\n",
    "         \"key4\":\"DS\",\n",
    "         \"key5\":\"AI\" \n",
    "        }\n",
    "print(\"Before adding key:\")\n",
    "print(\"\\n\",my_dict);\n",
    "my_dict[\"key6\"]=\"CSecurity\";\n",
    "print(\"\\nupdate dictionary is:\")\n",
    "print(\"\\n\",my_dict)"
   ]
  },
  {
   "cell_type": "code",
   "execution_count": 2,
   "id": "2396d336",
   "metadata": {},
   "outputs": [
    {
     "name": "stdout",
     "output_type": "stream",
     "text": [
      "update dictionary is:\n",
      "{'key1': 'SE ', 'key2': 'BSCS', 'key3': 'IT', 'key4': 'DS', 'key5': 'AI', 'key6': 'CSecurity', 'key7': 'ML'}\n"
     ]
    }
   ],
   "source": [
    "# with update function\n",
    "my_dict.update({'key7':'ML'})\n",
    "print(\"update dictionary is:\")\n",
    "print(my_dict)"
   ]
  },
  {
   "cell_type": "code",
   "execution_count": null,
   "id": "093658a1",
   "metadata": {},
   "outputs": [],
   "source": []
  }
 ],
 "metadata": {
  "kernelspec": {
   "display_name": "Python 3",
   "language": "python",
   "name": "python3"
  },
  "language_info": {
   "codemirror_mode": {
    "name": "ipython",
    "version": 3
   },
   "file_extension": ".py",
   "mimetype": "text/x-python",
   "name": "python",
   "nbconvert_exporter": "python",
   "pygments_lexer": "ipython3",
   "version": "3.8.8"
  }
 },
 "nbformat": 4,
 "nbformat_minor": 5
}
