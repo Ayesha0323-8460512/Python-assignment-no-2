{
 "cells": [
  {
   "cell_type": "code",
   "execution_count": 1,
   "id": "d5c61c47",
   "metadata": {},
   "outputs": [
    {
     "name": "stdout",
     "output_type": "stream",
     "text": [
      "{'A': 1, 'B': 2, 'C': 3}\n"
     ]
    }
   ],
   "source": [
    "#6.write a program to check whether the given key is present in the dictionary\n",
    "my_dict={'A':1,'B':2,'C':3}\n",
    "print(my_dict)"
   ]
  },
  {
   "cell_type": "code",
   "execution_count": 3,
   "id": "15c3f036",
   "metadata": {},
   "outputs": [
    {
     "name": "stdout",
     "output_type": "stream",
     "text": [
      "Enter key to check:A\n"
     ]
    }
   ],
   "source": [
    "key=input(\"Enter key to check:\")\n"
   ]
  },
  {
   "cell_type": "code",
   "execution_count": 6,
   "id": "4e17fb3f",
   "metadata": {},
   "outputs": [
    {
     "name": "stdout",
     "output_type": "stream",
     "text": [
      "Key is present and value of the key is:\n",
      "1\n"
     ]
    }
   ],
   "source": [
    "if key in my_dict.keys():\n",
    "      print(\"Key is present and value of the key is:\")\n",
    "      print(my_dict[key])\n",
    "else:\n",
    "     print(\"Key isn't present!\")"
   ]
  },
  {
   "cell_type": "code",
   "execution_count": null,
   "id": "630e2e2a",
   "metadata": {},
   "outputs": [],
   "source": []
  }
 ],
 "metadata": {
  "kernelspec": {
   "display_name": "Python 3",
   "language": "python",
   "name": "python3"
  },
  "language_info": {
   "codemirror_mode": {
    "name": "ipython",
    "version": 3
   },
   "file_extension": ".py",
   "mimetype": "text/x-python",
   "name": "python",
   "nbconvert_exporter": "python",
   "pygments_lexer": "ipython3",
   "version": "3.8.8"
  }
 },
 "nbformat": 4,
 "nbformat_minor": 5
}
